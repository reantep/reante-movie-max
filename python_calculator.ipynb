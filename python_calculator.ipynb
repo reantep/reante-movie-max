{
  "nbformat": 4,
  "nbformat_minor": 0,
  "metadata": {
    "colab": {
      "name": "Untitled6.ipynb",
      "provenance": [],
      "authorship_tag": "ABX9TyN7r7uYQzRkvkmjxHexHPcY",
      "include_colab_link": true
    },
    "kernelspec": {
      "name": "python3",
      "display_name": "Python 3"
    },
    "language_info": {
      "name": "python"
    }
  },
  "cells": [
    {
      "cell_type": "markdown",
      "metadata": {
        "id": "view-in-github",
        "colab_type": "text"
      },
      "source": [
        "<a href=\"https://colab.research.google.com/github/reantep/reante-movie-max/blob/main/python_calculator.ipynb\" target=\"_parent\"><img src=\"https://colab.research.google.com/assets/colab-badge.svg\" alt=\"Open In Colab\"/></a>"
      ]
    },
    {
      "cell_type": "code",
      "source": [
        "a = int(input('Enter your first number: '))\n",
        "\n",
        "operation = input('''\n",
        "Please type in the math operation you would like to complete:\n",
        "+ for addition\n",
        "- for subtraction\n",
        "* for multiplication\n",
        "/ for division\n",
        "''')\n",
        "\n",
        "b = int(input('Enter your second number: '))\n",
        "\n",
        "\n",
        "\n",
        "if operation == '+':\n",
        "    x = a + b  \n",
        "    print(a ,\"+\", b ,\"=\", x)\n",
        "\n",
        "elif operation == '-':\n",
        "    x = a - b  \n",
        "    print(a ,\"-\", b ,\"=\", x)\n",
        "\n",
        "elif operation == '*':\n",
        "    x = a * b  \n",
        "    print(a ,\"*\", b ,\"=\", x)\n",
        "\n",
        "elif operation == '/':\n",
        "    x = a / b  \n",
        "    print(a ,\"/\", b ,\"=\", x)\n",
        "\n",
        "else:\n",
        "    print('invalid operator please try agaain ')\n",
        "\n",
        "p = (a + b) * (a + b)\n",
        "\n",
        "print(\"(\", a, \"+\", b, \")^2 =\", p)"
      ],
      "metadata": {
        "colab": {
          "base_uri": "https://localhost:8080/"
        },
        "id": "xNca5Z7a2cKe",
        "outputId": "66ab2f39-c93f-458b-f84d-747630cde016"
      },
      "execution_count": 3,
      "outputs": [
        {
          "output_type": "stream",
          "name": "stdout",
          "text": [
            "Enter your first number: 9\n",
            "\n",
            "Please type in the math operation you would like to complete:\n",
            "+ for addition\n",
            "- for subtraction\n",
            "* for multiplication\n",
            "/ for division\n",
            "*\n",
            "Enter your second number: 9\n",
            "9 * 9 = 81\n",
            "( 9 + 9 )^2 = 324\n"
          ]
        }
      ]
    }
  ]
}