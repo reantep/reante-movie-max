{
  "nbformat": 4,
  "nbformat_minor": 0,
  "metadata": {
    "colab": {
      "name": "Untitled6.ipynb",
      "provenance": [],
      "authorship_tag": "ABX9TyOtxTjrarDT0+JrFtOoY3yw",
      "include_colab_link": true
    },
    "kernelspec": {
      "name": "python3",
      "display_name": "Python 3"
    },
    "language_info": {
      "name": "python"
    }
  },
  "cells": [
    {
      "cell_type": "markdown",
      "metadata": {
        "id": "view-in-github",
        "colab_type": "text"
      },
      "source": [
        "<a href=\"https://colab.research.google.com/github/reantep/reante-movie-max/blob/main/assesment-3.ipynb\" target=\"_parent\"><img src=\"https://colab.research.google.com/assets/colab-badge.svg\" alt=\"Open In Colab\"/></a>"
      ]
    },
    {
      "cell_type": "code",
      "source": [
        "a = int(input('Enter your first number: '))\n",
        "\n",
        "operation = input('''\n",
        "Please type in the math operation you would like to complete:\n",
        "+ for addition\n",
        "- for subtraction\n",
        "* for multiplication\n",
        "/ for division\n",
        "''')\n",
        "\n",
        "b = int(input('Enter your second number: '))\n",
        "\n",
        "\n",
        "\n",
        "if operation == '+':\n",
        "    x = a + b  \n",
        "    print(a ,\"+\", b ,\"=\", x)\n",
        "\n",
        "elif operation == '-':\n",
        "    x = a - b  \n",
        "    print(a ,\"-\", b ,\"=\", x)\n",
        "\n",
        "elif operation == '*':\n",
        "    x = a * b  \n",
        "    print(a ,\"*\", b ,\"=\", x)\n",
        "\n",
        "elif operation == '/':\n",
        "    x = a / b  \n",
        "    print(a ,\"/\", b ,\"=\", x)\n",
        "\n",
        "else:\n",
        "    print('invalid operator please try agaain ')\n",
        "\n",
        "p = (a + b) * (a + b)\n",
        "\n",
        "print(\"(\", a, \"+\", b, \")^2 =\", p)"
      ],
      "metadata": {
        "colab": {
          "base_uri": "https://localhost:8080/"
        },
        "id": "xNca5Z7a2cKe",
        "outputId": "66ab2f39-c93f-458b-f84d-747630cde016"
      },
      "execution_count": null,
      "outputs": [
        {
          "output_type": "stream",
          "name": "stdout",
          "text": [
            "Enter your first number: 9\n",
            "\n",
            "Please type in the math operation you would like to complete:\n",
            "+ for addition\n",
            "- for subtraction\n",
            "* for multiplication\n",
            "/ for division\n",
            "*\n",
            "Enter your second number: 9\n",
            "9 * 9 = 81\n",
            "( 9 + 9 )^2 = 324\n"
          ]
        }
      ]
    },
    {
      "cell_type": "code",
      "source": [
        "a=input(\"enter a variable for 'a'. \")\n",
        "b=input(\"enter a variable for 'b'. \")\n",
        "\n",
        "print(\"before swap\")\n",
        "\n",
        "print(\"a = \" + a)\n",
        "print(\"b = \" + b)\n",
        "\n",
        "a,b = b,a\n",
        "\n",
        "print(\"after swap\")\n",
        "\n",
        "print(\"a = \" + a)\n",
        "print(\"b = \" + b)"
      ],
      "metadata": {
        "colab": {
          "base_uri": "https://localhost:8080/"
        },
        "id": "z9z8axXzSBdP",
        "outputId": "910d8ade-5f6a-4001-f5cd-e9c8a06eda49"
      },
      "execution_count": 18,
      "outputs": [
        {
          "output_type": "stream",
          "name": "stdout",
          "text": [
            "enter a variable for 'a'1\n",
            "enter a variable for 'b'2\n",
            "before swap\n",
            "a = 1\n",
            "b = 2\n",
            "after swap\n",
            "a = 2\n",
            "b = 1\n"
          ]
        }
      ]
    },
    {
      "cell_type": "code",
      "source": [
        "n=int(input(\"enter a number \"))\n",
        "temp = n\n",
        "rev = 0 \n",
        "while (n > 0):\n",
        "  num = n % 10\n",
        "  rev = rev * 10 + num\n",
        "  n = n // 10 \n",
        "if (temp == rev):\n",
        "  print(\"the number is palindrome\")\n",
        "else :\n",
        "  print(\"the number is not a palindrome\")\n",
        "\n",
        "\n"
      ],
      "metadata": {
        "colab": {
          "base_uri": "https://localhost:8080/"
        },
        "id": "KD89R1JA4TJD",
        "outputId": "97bafa4f-c6d2-4b48-efcb-b45a6260f6b3"
      },
      "execution_count": 22,
      "outputs": [
        {
          "output_type": "stream",
          "name": "stdout",
          "text": [
            "enter a number 11\n",
            "the number is palindrome\n"
          ]
        }
      ]
    },
    {
      "cell_type": "code",
      "source": [
        "def ispanilidrome(s):\n",
        "  return s == s[::-1]\n",
        "s = \"111\"\n",
        "answer = ispanilidrome(s)\n",
        "if answer :\n",
        "  print(\"yes\")\n",
        "else: \n",
        "  print(\"no\")"
      ],
      "metadata": {
        "colab": {
          "base_uri": "https://localhost:8080/"
        },
        "id": "MS6B_tkM6HJF",
        "outputId": "0dde92ff-e360-4e8d-e747-a761f34ff483"
      },
      "execution_count": 27,
      "outputs": [
        {
          "output_type": "stream",
          "name": "stdout",
          "text": [
            "yes\n"
          ]
        }
      ]
    }
  ]
}